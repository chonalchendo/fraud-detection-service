{
 "cells": [
  {
   "cell_type": "code",
   "execution_count": 16,
   "metadata": {},
   "outputs": [],
   "source": [
    "import polars as pl\n",
    "import s3fs\n",
    "from rich import print"
   ]
  },
  {
   "cell_type": "code",
   "execution_count": 13,
   "metadata": {},
   "outputs": [],
   "source": [
    "fs = s3fs.S3FileSystem(\n",
    "    anon=False,\n",
    ")"
   ]
  },
  {
   "cell_type": "code",
   "execution_count": 14,
   "metadata": {},
   "outputs": [],
   "source": [
    "with fs.open(\"s3://fraud-detection-system/raw/training.parquet\") as f:\n",
    "    df = pl.read_parquet(f)"
   ]
  },
  {
   "cell_type": "code",
   "execution_count": 17,
   "metadata": {},
   "outputs": [
    {
     "data": {
      "text/html": [
       "<pre style=\"white-space:pre;overflow-x:auto;line-height:normal;font-family:Menlo,'DejaVu Sans Mono',consolas,'Courier New',monospace\"><span style=\"font-weight: bold\">[</span>\n",
       "    <span style=\"font-weight: bold\">{</span>\n",
       "        <span style=\"color: #008000; text-decoration-color: #008000\">''</span>: <span style=\"color: #008080; text-decoration-color: #008080; font-weight: bold\">0</span>,\n",
       "        <span style=\"color: #008000; text-decoration-color: #008000\">'trans_date_trans_time'</span>: <span style=\"color: #008000; text-decoration-color: #008000\">'2019-01-01 00:00:18'</span>,\n",
       "        <span style=\"color: #008000; text-decoration-color: #008000\">'cc_num'</span>: <span style=\"color: #008080; text-decoration-color: #008080; font-weight: bold\">2703186189652095</span>,\n",
       "        <span style=\"color: #008000; text-decoration-color: #008000\">'merchant'</span>: <span style=\"color: #008000; text-decoration-color: #008000\">'fraud_Rippin, Kub and Mann'</span>,\n",
       "        <span style=\"color: #008000; text-decoration-color: #008000\">'category'</span>: <span style=\"color: #008000; text-decoration-color: #008000\">'misc_net'</span>,\n",
       "        <span style=\"color: #008000; text-decoration-color: #008000\">'amt'</span>: <span style=\"color: #008080; text-decoration-color: #008080; font-weight: bold\">4.97</span>,\n",
       "        <span style=\"color: #008000; text-decoration-color: #008000\">'first'</span>: <span style=\"color: #008000; text-decoration-color: #008000\">'Jennifer'</span>,\n",
       "        <span style=\"color: #008000; text-decoration-color: #008000\">'last'</span>: <span style=\"color: #008000; text-decoration-color: #008000\">'Banks'</span>,\n",
       "        <span style=\"color: #008000; text-decoration-color: #008000\">'gender'</span>: <span style=\"color: #008000; text-decoration-color: #008000\">'F'</span>,\n",
       "        <span style=\"color: #008000; text-decoration-color: #008000\">'street'</span>: <span style=\"color: #008000; text-decoration-color: #008000\">'561 Perry Cove'</span>,\n",
       "        <span style=\"color: #008000; text-decoration-color: #008000\">'city'</span>: <span style=\"color: #008000; text-decoration-color: #008000\">'Moravian Falls'</span>,\n",
       "        <span style=\"color: #008000; text-decoration-color: #008000\">'state'</span>: <span style=\"color: #008000; text-decoration-color: #008000\">'NC'</span>,\n",
       "        <span style=\"color: #008000; text-decoration-color: #008000\">'zip'</span>: <span style=\"color: #008080; text-decoration-color: #008080; font-weight: bold\">28654</span>,\n",
       "        <span style=\"color: #008000; text-decoration-color: #008000\">'lat'</span>: <span style=\"color: #008080; text-decoration-color: #008080; font-weight: bold\">36.0788</span>,\n",
       "        <span style=\"color: #008000; text-decoration-color: #008000\">'long'</span>: <span style=\"color: #008080; text-decoration-color: #008080; font-weight: bold\">-81.1781</span>,\n",
       "        <span style=\"color: #008000; text-decoration-color: #008000\">'city_pop'</span>: <span style=\"color: #008080; text-decoration-color: #008080; font-weight: bold\">3495</span>,\n",
       "        <span style=\"color: #008000; text-decoration-color: #008000\">'job'</span>: <span style=\"color: #008000; text-decoration-color: #008000\">'Psychologist, counselling'</span>,\n",
       "        <span style=\"color: #008000; text-decoration-color: #008000\">'dob'</span>: <span style=\"color: #008000; text-decoration-color: #008000\">'1988-03-09'</span>,\n",
       "        <span style=\"color: #008000; text-decoration-color: #008000\">'trans_num'</span>: <span style=\"color: #008000; text-decoration-color: #008000\">'0b242abb623afc578575680df30655b9'</span>,\n",
       "        <span style=\"color: #008000; text-decoration-color: #008000\">'unix_time'</span>: <span style=\"color: #008080; text-decoration-color: #008080; font-weight: bold\">1325376018</span>,\n",
       "        <span style=\"color: #008000; text-decoration-color: #008000\">'merch_lat'</span>: <span style=\"color: #008080; text-decoration-color: #008080; font-weight: bold\">36.011293</span>,\n",
       "        <span style=\"color: #008000; text-decoration-color: #008000\">'merch_long'</span>: <span style=\"color: #008080; text-decoration-color: #008080; font-weight: bold\">-82.048315</span>,\n",
       "        <span style=\"color: #008000; text-decoration-color: #008000\">'is_fraud'</span>: <span style=\"color: #008080; text-decoration-color: #008080; font-weight: bold\">0</span>,\n",
       "        <span style=\"color: #008000; text-decoration-color: #008000\">'customer_id'</span>: <span style=\"color: #008000; text-decoration-color: #008000\">'CUST_f198489bae4db7c3'</span>\n",
       "    <span style=\"font-weight: bold\">}</span>\n",
       "<span style=\"font-weight: bold\">]</span>\n",
       "</pre>\n"
      ],
      "text/plain": [
       "\u001b[1m[\u001b[0m\n",
       "    \u001b[1m{\u001b[0m\n",
       "        \u001b[32m''\u001b[0m: \u001b[1;36m0\u001b[0m,\n",
       "        \u001b[32m'trans_date_trans_time'\u001b[0m: \u001b[32m'2019-01-01 00:00:18'\u001b[0m,\n",
       "        \u001b[32m'cc_num'\u001b[0m: \u001b[1;36m2703186189652095\u001b[0m,\n",
       "        \u001b[32m'merchant'\u001b[0m: \u001b[32m'fraud_Rippin, Kub and Mann'\u001b[0m,\n",
       "        \u001b[32m'category'\u001b[0m: \u001b[32m'misc_net'\u001b[0m,\n",
       "        \u001b[32m'amt'\u001b[0m: \u001b[1;36m4.97\u001b[0m,\n",
       "        \u001b[32m'first'\u001b[0m: \u001b[32m'Jennifer'\u001b[0m,\n",
       "        \u001b[32m'last'\u001b[0m: \u001b[32m'Banks'\u001b[0m,\n",
       "        \u001b[32m'gender'\u001b[0m: \u001b[32m'F'\u001b[0m,\n",
       "        \u001b[32m'street'\u001b[0m: \u001b[32m'561 Perry Cove'\u001b[0m,\n",
       "        \u001b[32m'city'\u001b[0m: \u001b[32m'Moravian Falls'\u001b[0m,\n",
       "        \u001b[32m'state'\u001b[0m: \u001b[32m'NC'\u001b[0m,\n",
       "        \u001b[32m'zip'\u001b[0m: \u001b[1;36m28654\u001b[0m,\n",
       "        \u001b[32m'lat'\u001b[0m: \u001b[1;36m36.0788\u001b[0m,\n",
       "        \u001b[32m'long'\u001b[0m: \u001b[1;36m-81.1781\u001b[0m,\n",
       "        \u001b[32m'city_pop'\u001b[0m: \u001b[1;36m3495\u001b[0m,\n",
       "        \u001b[32m'job'\u001b[0m: \u001b[32m'Psychologist, counselling'\u001b[0m,\n",
       "        \u001b[32m'dob'\u001b[0m: \u001b[32m'1988-03-09'\u001b[0m,\n",
       "        \u001b[32m'trans_num'\u001b[0m: \u001b[32m'0b242abb623afc578575680df30655b9'\u001b[0m,\n",
       "        \u001b[32m'unix_time'\u001b[0m: \u001b[1;36m1325376018\u001b[0m,\n",
       "        \u001b[32m'merch_lat'\u001b[0m: \u001b[1;36m36.011293\u001b[0m,\n",
       "        \u001b[32m'merch_long'\u001b[0m: \u001b[1;36m-82.048315\u001b[0m,\n",
       "        \u001b[32m'is_fraud'\u001b[0m: \u001b[1;36m0\u001b[0m,\n",
       "        \u001b[32m'customer_id'\u001b[0m: \u001b[32m'CUST_f198489bae4db7c3'\u001b[0m\n",
       "    \u001b[1m}\u001b[0m\n",
       "\u001b[1m]\u001b[0m\n"
      ]
     },
     "metadata": {},
     "output_type": "display_data"
    }
   ],
   "source": [
    "print(df.head(1).to_dicts())"
   ]
  },
  {
   "cell_type": "code",
   "execution_count": 8,
   "metadata": {},
   "outputs": [
    {
     "data": {
      "text/html": [
       "<div><style>\n",
       ".dataframe > thead > tr,\n",
       ".dataframe > tbody > tr {\n",
       "  text-align: right;\n",
       "  white-space: pre-wrap;\n",
       "}\n",
       "</style>\n",
       "<small>shape: (14,)</small><table border=\"1\" class=\"dataframe\"><thead><tr><th>category</th></tr><tr><td>str</td></tr></thead><tbody><tr><td>&quot;shopping_pos&quot;</td></tr><tr><td>&quot;travel&quot;</td></tr><tr><td>&quot;grocery_pos&quot;</td></tr><tr><td>&quot;food_dining&quot;</td></tr><tr><td>&quot;misc_net&quot;</td></tr><tr><td>&hellip;</td></tr><tr><td>&quot;grocery_net&quot;</td></tr><tr><td>&quot;gas_transport&quot;</td></tr><tr><td>&quot;home&quot;</td></tr><tr><td>&quot;misc_pos&quot;</td></tr><tr><td>&quot;shopping_net&quot;</td></tr></tbody></table></div>"
      ],
      "text/plain": [
       "shape: (14,)\n",
       "Series: 'category' [str]\n",
       "[\n",
       "\t\"shopping_pos\"\n",
       "\t\"travel\"\n",
       "\t\"grocery_pos\"\n",
       "\t\"food_dining\"\n",
       "\t\"misc_net\"\n",
       "\t…\n",
       "\t\"grocery_net\"\n",
       "\t\"gas_transport\"\n",
       "\t\"home\"\n",
       "\t\"misc_pos\"\n",
       "\t\"shopping_net\"\n",
       "]"
      ]
     },
     "execution_count": 8,
     "metadata": {},
     "output_type": "execute_result"
    }
   ],
   "source": [
    "df['category'].unique()"
   ]
  },
  {
   "cell_type": "code",
   "execution_count": 5,
   "metadata": {},
   "outputs": [
    {
     "data": {
      "text/html": [
       "<div><style>\n",
       ".dataframe > thead > tr,\n",
       ".dataframe > tbody > tr {\n",
       "  text-align: right;\n",
       "  white-space: pre-wrap;\n",
       "}\n",
       "</style>\n",
       "<small>shape: (1, 23)</small><table border=\"1\" class=\"dataframe\"><thead><tr><th></th><th>trans_date_trans_time</th><th>cc_num</th><th>merchant</th><th>category</th><th>amt</th><th>first</th><th>last</th><th>gender</th><th>street</th><th>city</th><th>state</th><th>zip</th><th>lat</th><th>long</th><th>city_pop</th><th>job</th><th>dob</th><th>trans_num</th><th>unix_time</th><th>merch_lat</th><th>merch_long</th><th>is_fraud</th></tr><tr><td>u32</td><td>u32</td><td>u32</td><td>u32</td><td>u32</td><td>u32</td><td>u32</td><td>u32</td><td>u32</td><td>u32</td><td>u32</td><td>u32</td><td>u32</td><td>u32</td><td>u32</td><td>u32</td><td>u32</td><td>u32</td><td>u32</td><td>u32</td><td>u32</td><td>u32</td><td>u32</td></tr></thead><tbody><tr><td>0</td><td>0</td><td>0</td><td>0</td><td>0</td><td>0</td><td>0</td><td>0</td><td>0</td><td>0</td><td>0</td><td>0</td><td>0</td><td>0</td><td>0</td><td>0</td><td>0</td><td>0</td><td>0</td><td>0</td><td>0</td><td>0</td><td>0</td></tr></tbody></table></div>"
      ],
      "text/plain": [
       "shape: (1, 23)\n",
       "┌─────┬────────────────────┬────────┬──────────┬───┬───────────┬───────────┬────────────┬──────────┐\n",
       "│     ┆ trans_date_trans_t ┆ cc_num ┆ merchant ┆ … ┆ unix_time ┆ merch_lat ┆ merch_long ┆ is_fraud │\n",
       "│ --- ┆ ime                ┆ ---    ┆ ---      ┆   ┆ ---       ┆ ---       ┆ ---        ┆ ---      │\n",
       "│ u32 ┆ ---                ┆ u32    ┆ u32      ┆   ┆ u32       ┆ u32       ┆ u32        ┆ u32      │\n",
       "│     ┆ u32                ┆        ┆          ┆   ┆           ┆           ┆            ┆          │\n",
       "╞═════╪════════════════════╪════════╪══════════╪═══╪═══════════╪═══════════╪════════════╪══════════╡\n",
       "│ 0   ┆ 0                  ┆ 0      ┆ 0        ┆ … ┆ 0         ┆ 0         ┆ 0          ┆ 0        │\n",
       "└─────┴────────────────────┴────────┴──────────┴───┴───────────┴───────────┴────────────┴──────────┘"
      ]
     },
     "execution_count": 5,
     "metadata": {},
     "output_type": "execute_result"
    }
   ],
   "source": [
    "df.null_count()"
   ]
  },
  {
   "cell_type": "markdown",
   "metadata": {},
   "source": [
    "### Rename columns"
   ]
  },
  {
   "cell_type": "code",
   "execution_count": 37,
   "metadata": {},
   "outputs": [],
   "source": [
    "dff = df.__copy__()"
   ]
  },
  {
   "cell_type": "code",
   "execution_count": 35,
   "metadata": {},
   "outputs": [],
   "source": [
    "def rename_columns(df: pl.DataFrame, mapping: dict[str, str]) -> pl.DataFrame:\n",
    "    return df.rename(mapping=mapping)"
   ]
  },
  {
   "cell_type": "code",
   "execution_count": 40,
   "metadata": {},
   "outputs": [],
   "source": [
    "mapping = {\n",
    "    'trans_date_trans_time': 'transaction_time',\n",
    "    'cc_num': 'credit_card_number',\n",
    "    'merchant': 'merchant_name',\n",
    "    'amt': 'amount_usd'\n",
    "}"
   ]
  },
  {
   "cell_type": "markdown",
   "metadata": {},
   "source": [
    "### Convert to date and datetime"
   ]
  },
  {
   "cell_type": "code",
   "execution_count": 23,
   "metadata": {},
   "outputs": [],
   "source": [
    "def convert_to_datetime(df: pl.DataFrame, column: str):\n",
    "    return df.with_columns(pl.col(column).str.to_datetime(\"%Y-%m-%d %H:%M:%S\"))"
   ]
  },
  {
   "cell_type": "code",
   "execution_count": 26,
   "metadata": {},
   "outputs": [],
   "source": [
    "def convert_to_date(df: pl.DataFrame, column: str):\n",
    "    return df.with_columns(pl.col(column).str.to_date(format=\"%Y-%m-%d\"))"
   ]
  },
  {
   "cell_type": "markdown",
   "metadata": {},
   "source": [
    "### Drop columns"
   ]
  },
  {
   "cell_type": "code",
   "execution_count": 6,
   "metadata": {},
   "outputs": [],
   "source": [
    "def drop_columns(df: pl.DataFrame, columns: list[str]) -> pl.DataFrame:\n",
    "    return df.drop(columns)"
   ]
  },
  {
   "cell_type": "markdown",
   "metadata": {},
   "source": [
    "### Create customer id"
   ]
  },
  {
   "cell_type": "code",
   "execution_count": 48,
   "metadata": {},
   "outputs": [
    {
     "data": {
      "text/html": [
       "<div><style>\n",
       ".dataframe > thead > tr,\n",
       ".dataframe > tbody > tr {\n",
       "  text-align: right;\n",
       "  white-space: pre-wrap;\n",
       "}\n",
       "</style>\n",
       "<small>shape: (983, 4)</small><table border=\"1\" class=\"dataframe\"><thead><tr><th>cc_num</th><th>first</th><th>last</th><th>dob</th></tr><tr><td>i64</td><td>str</td><td>str</td><td>str</td></tr></thead><tbody><tr><td>6517217825320610</td><td>&quot;James&quot;</td><td>&quot;Reese&quot;</td><td>&quot;1958-06-11&quot;</td></tr><tr><td>3534330126107879</td><td>&quot;Jeffrey&quot;</td><td>&quot;Smith&quot;</td><td>&quot;1978-01-15&quot;</td></tr><tr><td>3544606805704278</td><td>&quot;Carolyn&quot;</td><td>&quot;Thomas&quot;</td><td>&quot;1952-05-07&quot;</td></tr><tr><td>180040027502291</td><td>&quot;Mary&quot;</td><td>&quot;Schmidt&quot;</td><td>&quot;1957-12-29&quot;</td></tr><tr><td>376262134119629</td><td>&quot;Christopher&quot;</td><td>&quot;Carr&quot;</td><td>&quot;1961-09-28&quot;</td></tr><tr><td>&hellip;</td><td>&hellip;</td><td>&hellip;</td><td>&hellip;</td></tr><tr><td>4254074738931278</td><td>&quot;Gary&quot;</td><td>&quot;Hall&quot;</td><td>&quot;1956-05-02&quot;</td></tr><tr><td>4855488158131690372</td><td>&quot;Jeremy&quot;</td><td>&quot;Roberson&quot;</td><td>&quot;1993-09-29&quot;</td></tr><tr><td>2703186189652095</td><td>&quot;Jennifer&quot;</td><td>&quot;Banks&quot;</td><td>&quot;1988-03-09&quot;</td></tr><tr><td>4373370572092720777</td><td>&quot;Hailey&quot;</td><td>&quot;Rhodes&quot;</td><td>&quot;1972-07-29&quot;</td></tr><tr><td>4585132874641</td><td>&quot;Karen&quot;</td><td>&quot;Gordon&quot;</td><td>&quot;1972-04-18&quot;</td></tr></tbody></table></div>"
      ],
      "text/plain": [
       "shape: (983, 4)\n",
       "┌─────────────────────┬─────────────┬──────────┬────────────┐\n",
       "│ cc_num              ┆ first       ┆ last     ┆ dob        │\n",
       "│ ---                 ┆ ---         ┆ ---      ┆ ---        │\n",
       "│ i64                 ┆ str         ┆ str      ┆ str        │\n",
       "╞═════════════════════╪═════════════╪══════════╪════════════╡\n",
       "│ 6517217825320610    ┆ James       ┆ Reese    ┆ 1958-06-11 │\n",
       "│ 3534330126107879    ┆ Jeffrey     ┆ Smith    ┆ 1978-01-15 │\n",
       "│ 3544606805704278    ┆ Carolyn     ┆ Thomas   ┆ 1952-05-07 │\n",
       "│ 180040027502291     ┆ Mary        ┆ Schmidt  ┆ 1957-12-29 │\n",
       "│ 376262134119629     ┆ Christopher ┆ Carr     ┆ 1961-09-28 │\n",
       "│ …                   ┆ …           ┆ …        ┆ …          │\n",
       "│ 4254074738931278    ┆ Gary        ┆ Hall     ┆ 1956-05-02 │\n",
       "│ 4855488158131690372 ┆ Jeremy      ┆ Roberson ┆ 1993-09-29 │\n",
       "│ 2703186189652095    ┆ Jennifer    ┆ Banks    ┆ 1988-03-09 │\n",
       "│ 4373370572092720777 ┆ Hailey      ┆ Rhodes   ┆ 1972-07-29 │\n",
       "│ 4585132874641       ┆ Karen       ┆ Gordon   ┆ 1972-04-18 │\n",
       "└─────────────────────┴─────────────┴──────────┴────────────┘"
      ]
     },
     "execution_count": 48,
     "metadata": {},
     "output_type": "execute_result"
    }
   ],
   "source": [
    "dff[['cc_num', 'first', 'last', 'dob']].unique()"
   ]
  },
  {
   "cell_type": "code",
   "execution_count": 56,
   "metadata": {},
   "outputs": [],
   "source": [
    "from hashlib import sha256\n",
    "\n",
    "def generate_customer_id(row: dict) -> str:\n",
    "    identifier = (\n",
    "                f\"{str(row['first']).lower().strip()}\"\n",
    "                f\"{str(row['last']).lower().strip()}\"\n",
    "                f\"{str(row['cc_num']).strip()}\"\n",
    "                f\"{str(row['dob'])}\"\n",
    "            )\n",
    "            # Create deterministic hash\n",
    "    return f\"CUST_{sha256(identifier.encode()).hexdigest()[:16]}\""
   ]
  },
  {
   "cell_type": "code",
   "execution_count": 51,
   "metadata": {},
   "outputs": [],
   "source": [
    "sensitive_columns = ['cc_num', 'first', 'last', 'dob']"
   ]
  },
  {
   "cell_type": "code",
   "execution_count": null,
   "metadata": {},
   "outputs": [],
   "source": [
    "dff = dff.with_columns(\n",
    "        pl.struct(sensitive_columns)\n",
    "        .map_elements(lambda x: generate_customer_id(x), return_dtype=pl.String)\n",
    "        .alias('customer_id')\n",
    "    )"
   ]
  },
  {
   "cell_type": "code",
   "execution_count": 59,
   "metadata": {},
   "outputs": [
    {
     "data": {
      "text/html": [
       "<div><style>\n",
       ".dataframe > thead > tr,\n",
       ".dataframe > tbody > tr {\n",
       "  text-align: right;\n",
       "  white-space: pre-wrap;\n",
       "}\n",
       "</style>\n",
       "<small>shape: (983,)</small><table border=\"1\" class=\"dataframe\"><thead><tr><th>customer_id</th></tr><tr><td>str</td></tr></thead><tbody><tr><td>&quot;CUST_7947df7a2b2ca53b&quot;</td></tr><tr><td>&quot;CUST_8c53475cbd711789&quot;</td></tr><tr><td>&quot;CUST_ed680b5f37ed21fd&quot;</td></tr><tr><td>&quot;CUST_1b245841e67a2a5f&quot;</td></tr><tr><td>&quot;CUST_99ece2d9315bbed5&quot;</td></tr><tr><td>&hellip;</td></tr><tr><td>&quot;CUST_8d339046343e7d1a&quot;</td></tr><tr><td>&quot;CUST_a3d8212e5f1190e2&quot;</td></tr><tr><td>&quot;CUST_a72036e187a90bb6&quot;</td></tr><tr><td>&quot;CUST_d4a332fcbe53bdb8&quot;</td></tr><tr><td>&quot;CUST_e9ef29431a87f485&quot;</td></tr></tbody></table></div>"
      ],
      "text/plain": [
       "shape: (983,)\n",
       "Series: 'customer_id' [str]\n",
       "[\n",
       "\t\"CUST_7947df7a2b2ca53b\"\n",
       "\t\"CUST_8c53475cbd711789\"\n",
       "\t\"CUST_ed680b5f37ed21fd\"\n",
       "\t\"CUST_1b245841e67a2a5f\"\n",
       "\t\"CUST_99ece2d9315bbed5\"\n",
       "\t…\n",
       "\t\"CUST_8d339046343e7d1a\"\n",
       "\t\"CUST_a3d8212e5f1190e2\"\n",
       "\t\"CUST_a72036e187a90bb6\"\n",
       "\t\"CUST_d4a332fcbe53bdb8\"\n",
       "\t\"CUST_e9ef29431a87f485\"\n",
       "]"
      ]
     },
     "execution_count": 59,
     "metadata": {},
     "output_type": "execute_result"
    }
   ],
   "source": [
    "dff['customer_id'].unique()"
   ]
  },
  {
   "cell_type": "markdown",
   "metadata": {},
   "source": [
    "### Apply customer id to both datasets"
   ]
  },
  {
   "cell_type": "code",
   "execution_count": 61,
   "metadata": {},
   "outputs": [],
   "source": [
    "# load in train data\n",
    "with fs.open(\"s3://fraud-detection-system/raw/training.parquet\") as f:\n",
    "    train_df = pl.read_parquet(f)"
   ]
  },
  {
   "cell_type": "code",
   "execution_count": 60,
   "metadata": {},
   "outputs": [],
   "source": [
    "# load test data\n",
    "with fs.open(\"s3://fraud-detection-system/production/prod.parquet\") as f:\n",
    "    test_df = pl.read_parquet(f)"
   ]
  },
  {
   "cell_type": "code",
   "execution_count": 67,
   "metadata": {},
   "outputs": [],
   "source": [
    "# concat both datasets together\n",
    "full_data = pl.concat([\n",
    "        train_df.with_columns(pl.lit('train').alias('original_split')),\n",
    "        test_df.with_columns(pl.lit('test').alias('original_split'))\n",
    "    ])"
   ]
  },
  {
   "cell_type": "code",
   "execution_count": 68,
   "metadata": {},
   "outputs": [],
   "source": [
    "full_data2 = full_data.with_columns(\n",
    "        pl.struct(sensitive_columns)\n",
    "        .map_elements(lambda x: generate_customer_id(x), return_dtype=pl.String)\n",
    "        .alias('customer_id')\n",
    "    )"
   ]
  },
  {
   "cell_type": "code",
   "execution_count": 72,
   "metadata": {},
   "outputs": [],
   "source": [
    "# split the data back into train and test\n",
    "processed_train = full_data2.filter(pl.col('original_split') == 'train').drop('original_split')\n",
    "processed_test = full_data2.filter(pl.col('original_split') == 'test').drop('original_split')\n",
    "\n",
    "# Verify no data leakage\n",
    "assert len(processed_train) == len(train_df), \"Training data size mismatch\"\n",
    "assert len(processed_test) == len(test_df), \"Test data size mismatch\""
   ]
  },
  {
   "cell_type": "code",
   "execution_count": null,
   "metadata": {},
   "outputs": [],
   "source": []
  }
 ],
 "metadata": {
  "kernelspec": {
   "display_name": ".venv",
   "language": "python",
   "name": "python3"
  },
  "language_info": {
   "codemirror_mode": {
    "name": "ipython",
    "version": 3
   },
   "file_extension": ".py",
   "mimetype": "text/x-python",
   "name": "python",
   "nbconvert_exporter": "python",
   "pygments_lexer": "ipython3",
   "version": "3.12.0"
  }
 },
 "nbformat": 4,
 "nbformat_minor": 2
}
